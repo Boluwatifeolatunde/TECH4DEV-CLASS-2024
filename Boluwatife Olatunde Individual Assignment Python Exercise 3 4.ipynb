{
 "cells": [
  {
   "cell_type": "code",
   "execution_count": 57,
   "id": "743ce984",
   "metadata": {},
   "outputs": [
    {
     "data": {
      "text/plain": [
       "23"
      ]
     },
     "execution_count": 57,
     "metadata": {},
     "output_type": "execute_result"
    }
   ],
   "source": [
    "arr = [2, 4, 7, 4, 23, 5, 1, 4, 8, 9]\n",
    "max(arr)"
   ]
  },
  {
   "cell_type": "code",
   "execution_count": 12,
   "id": "854cff1b",
   "metadata": {},
   "outputs": [
    {
     "data": {
      "text/plain": [
       "[1, 2, 4, 4, 4, 5, 7, 8, 9, 23]"
      ]
     },
     "execution_count": 12,
     "metadata": {},
     "output_type": "execute_result"
    }
   ],
   "source": [
    "mylist = [2, 4, 7, 4, 23, 5, 1, 4, 8, 9]\n",
    "mylist.sort()\n",
    "mylist"
   ]
  },
  {
   "cell_type": "code",
   "execution_count": 13,
   "id": "81bc424a",
   "metadata": {},
   "outputs": [
    {
     "data": {
      "text/plain": [
       "23"
      ]
     },
     "execution_count": 13,
     "metadata": {},
     "output_type": "execute_result"
    }
   ],
   "source": [
    "sortmylist = [1, 2, 4, 4, 4, 5, 7, 8, 9, 23]\n",
    "max(sortmylist)"
   ]
  },
  {
   "cell_type": "code",
   "execution_count": 14,
   "id": "fda242c4",
   "metadata": {},
   "outputs": [
    {
     "data": {
      "text/plain": [
       "246"
      ]
     },
     "execution_count": 14,
     "metadata": {},
     "output_type": "execute_result"
    }
   ],
   "source": [
    "mylist = [4,7,1,5,11,53,12,46,84,23]\n",
    "sum(mylist)"
   ]
  },
  {
   "cell_type": "code",
   "execution_count": 15,
   "id": "0e94a518",
   "metadata": {},
   "outputs": [
    {
     "data": {
      "text/plain": [
       "10"
      ]
     },
     "execution_count": 15,
     "metadata": {},
     "output_type": "execute_result"
    }
   ],
   "source": [
    "mylist = [4,7,1,5,11,53,12,46,84,23]\n",
    "len(mylist)"
   ]
  },
  {
   "cell_type": "code",
   "execution_count": 16,
   "id": "18fdb636",
   "metadata": {},
   "outputs": [
    {
     "name": "stdout",
     "output_type": "stream",
     "text": [
      "average of list: 24.6\n"
     ]
    }
   ],
   "source": [
    "mylist = [4,7,1,5,11,53,12,46,84,23]\n",
    "average = sum(mylist)/len(mylist)\n",
    "print(\"average of list:\",average)"
   ]
  },
  {
   "cell_type": "code",
   "execution_count": 17,
   "id": "9a90fb53",
   "metadata": {},
   "outputs": [
    {
     "name": "stdout",
     "output_type": "stream",
     "text": [
      "[5, 89, 45, 14, 53, 23, 45, 7, 6, 2]\n"
     ]
    }
   ],
   "source": [
    "mylist = [2,6,7,45,23,53,14,45,89,5]\n",
    "mylist.reverse()\n",
    "print(mylist)\n"
   ]
  },
  {
   "cell_type": "code",
   "execution_count": 32,
   "id": "a1b95b89",
   "metadata": {},
   "outputs": [
    {
     "data": {
      "text/plain": [
       "10"
      ]
     },
     "execution_count": 32,
     "metadata": {},
     "output_type": "execute_result"
    }
   ],
   "source": [
    "list1 = [4,7,1,5,11,53,12,46,84,23]\n",
    "len(list1)\n"
   ]
  },
  {
   "cell_type": "code",
   "execution_count": 33,
   "id": "2f1d3089",
   "metadata": {},
   "outputs": [
    {
     "data": {
      "text/plain": [
       "9"
      ]
     },
     "execution_count": 33,
     "metadata": {},
     "output_type": "execute_result"
    }
   ],
   "source": [
    "list2 = [2,6,7,45,23,53,14,45,89,]\n",
    "len(list2)"
   ]
  },
  {
   "cell_type": "code",
   "execution_count": 56,
   "id": "2eab5812",
   "metadata": {},
   "outputs": [
    {
     "name": "stdout",
     "output_type": "stream",
     "text": [
      "false\n"
     ]
    }
   ],
   "source": [
    "if len(list1) == len(list2):\n",
    "    print(\"true\")\n",
    "else:\n",
    "    print (\"false\")"
   ]
  },
  {
   "cell_type": "code",
   "execution_count": 19,
   "id": "9763510b",
   "metadata": {},
   "outputs": [
    {
     "name": "stdout",
     "output_type": "stream",
     "text": [
      "[2, 6, 7, 45, 23, 53, 14, 45, 89]\n",
      "swapped list:  [2, 6, 53, 45, 23, 7, 14, 45, 89]\n"
     ]
    }
   ],
   "source": [
    "def swaplist(indexlist,index1,index2):\n",
    "    indexlist[index1], indexlist[index2] = indexlist[index2], indexlist[index1]\n",
    "    return indexlist\n",
    "\n",
    "mylist = [2,6,7,45,23,53,14,45,89,]\n",
    "index1 = 3\n",
    "index2 = 6\n",
    "print(mylist)\n",
    "print(\"swapped list: \",swaplist(mylist,index1-1,index2-1))\n",
    "\n",
    "\n"
   ]
  },
  {
   "cell_type": "code",
   "execution_count": 54,
   "id": "36ec3ef4",
   "metadata": {},
   "outputs": [
    {
     "name": "stdout",
     "output_type": "stream",
     "text": [
      "concatenated list using +:[4, 7, 1, 5, 11, 53, 12, 46, 84, 23, 2, 6, 7, 45, 23, 53, 14, 45, 89]\n"
     ]
    }
   ],
   "source": [
    "list1 = [4,7,1,5,11,53,12,46,84,23]\n",
    "list2 = [2,6,7,45,23,53,14,45,89,]\n",
    "list3 = list1 + list2\n",
    "print (\"concatenated list using +:\" + str(list3))"
   ]
  },
  {
   "cell_type": "code",
   "execution_count": 55,
   "id": "2bccddda",
   "metadata": {},
   "outputs": [
    {
     "name": "stdout",
     "output_type": "stream",
     "text": [
      "concatenated list using extend:[4, 7, 1, 5, 11, 53, 12, 46, 84, 23, 2, 6, 7, 45, 23, 53, 14, 45, 89]\n"
     ]
    }
   ],
   "source": [
    "list1 = [4,7,1,5,11,53,12,46,84,23]\n",
    "list2 = [2,6,7,45,23,53,14,45,89,]\n",
    "list1.extend(list2)\n",
    "print (\"concatenated list using extend:\" + str(list1))"
   ]
  },
  {
   "cell_type": "code",
   "execution_count": 21,
   "id": "21638eba",
   "metadata": {},
   "outputs": [
    {
     "name": "stdout",
     "output_type": "stream",
     "text": [
      "The last index of 46 is: 10\n"
     ]
    }
   ],
   "source": [
    "def last_index(mylist, value):\n",
    "    lastindex = -1\n",
    "\n",
    "    for i in range(len(mylist)):\n",
    "        if mylist[i] == value:\n",
    "            lastindex = i\n",
    "\n",
    "    return lastindex\n",
    "\n",
    "# Example usage\n",
    "mylist = [4,7,1,5,11,53,12,46,84,23,46]\n",
    "search_value = 46\n",
    "\n",
    "result = last_index(mylist, search_value)\n",
    "\n",
    "print(f\"The last index of {search_value} is: {result}\")\n"
   ]
  },
  {
   "cell_type": "code",
   "execution_count": 20,
   "id": "d5db948a",
   "metadata": {},
   "outputs": [
    {
     "name": "stdout",
     "output_type": "stream",
     "text": [
      "range of my_arr: 84\n"
     ]
    }
   ],
   "source": [
    "my_arr = [4,7,1,5,11,53,12,46,84,23]\n",
    "rangemy_arr = max(my_arr) - min(my_arr) + 1\n",
    "print(\"range of my_arr:\",rangemy_arr)"
   ]
  },
  {
   "cell_type": "code",
   "execution_count": 10,
   "id": "c112109d",
   "metadata": {},
   "outputs": [
    {
     "name": "stdout",
     "output_type": "stream",
     "text": [
      "There are 8 elements between 4 and 53.\n"
     ]
    }
   ],
   "source": [
    "def count_num(mylist, minimum, maximum):\n",
    "    count = 0\n",
    "\n",
    "    for num in input_list:\n",
    "        if minimum <= num <= maximum:\n",
    "            count += 1\n",
    "\n",
    "    return count\n",
    "\n",
    "\n",
    "mylist = [4,7,1,5,11,53,12,46,84,23]\n",
    "minimum_value = 4\n",
    "maximum_value = 53\n",
    "\n",
    "result = count_num(mylist, minimum_value, maximum_value)\n",
    "\n",
    "print(f\"There are {result} elements between {minimum_value} and {maximum_value}.\")\n"
   ]
  },
  {
   "cell_type": "code",
   "execution_count": 9,
   "id": "3d489757",
   "metadata": {},
   "outputs": [
    {
     "name": "stdout",
     "output_type": "stream",
     "text": [
      "Is list1 sorted? False\n",
      "Is list2 sorted? True\n"
     ]
    }
   ],
   "source": [
    "def is_sorted(input_list):\n",
    "    for i in range(1, len(input_list)):\n",
    "        if input_list[i - 1] > input_list[i]:\n",
    "            return False\n",
    "    return True\n",
    "\n",
    "list1 = [4,7,1,5,11,53,12,46,84,23]\n",
    "list2 = [1, 2, 4, 4, 4, 5, 7, 8, 9, 23]\n",
    "\n",
    "result_list1 = is_sorted(list1)\n",
    "result_list2 = is_sorted(list2)\n",
    "\n",
    "print(f\"Is list1 sorted? {result_list1}\")\n",
    "print(f\"Is list2 sorted? {result_list2}\")"
   ]
  }
 ],
 "metadata": {
  "kernelspec": {
   "display_name": "Python 3 (ipykernel)",
   "language": "python",
   "name": "python3"
  },
  "language_info": {
   "codemirror_mode": {
    "name": "ipython",
    "version": 3
   },
   "file_extension": ".py",
   "mimetype": "text/x-python",
   "name": "python",
   "nbconvert_exporter": "python",
   "pygments_lexer": "ipython3",
   "version": "3.11.3"
  }
 },
 "nbformat": 4,
 "nbformat_minor": 5
}

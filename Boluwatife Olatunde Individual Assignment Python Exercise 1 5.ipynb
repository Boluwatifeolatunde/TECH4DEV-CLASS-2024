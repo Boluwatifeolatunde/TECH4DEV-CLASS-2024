{
 "cells": [
  {
   "cell_type": "code",
   "execution_count": 1,
   "id": "67e44546",
   "metadata": {},
   "outputs": [
    {
     "name": "stdout",
     "output_type": "stream",
     "text": [
      "\ta\tb\tc\n"
     ]
    }
   ],
   "source": [
    "print(\"\\ta\\tb\\tc\") "
   ]
  },
  {
   "cell_type": "code",
   "execution_count": 2,
   "id": "9ea54147",
   "metadata": {},
   "outputs": [
    {
     "name": "stdout",
     "output_type": "stream",
     "text": [
      "\\\\\n"
     ]
    }
   ],
   "source": [
    "print(\"\\\\\\\\\")"
   ]
  },
  {
   "cell_type": "code",
   "execution_count": 3,
   "id": "7b225715",
   "metadata": {},
   "outputs": [
    {
     "name": "stdout",
     "output_type": "stream",
     "text": [
      "'\n"
     ]
    }
   ],
   "source": [
    "print(\"'\")"
   ]
  },
  {
   "cell_type": "code",
   "execution_count": 4,
   "id": "23844353",
   "metadata": {},
   "outputs": [
    {
     "name": "stdout",
     "output_type": "stream",
     "text": [
      "\"\"\"\n"
     ]
    }
   ],
   "source": [
    "print(\"\\\"\\\"\\\"\")"
   ]
  },
  {
   "cell_type": "code",
   "execution_count": 5,
   "id": "acc2e41b",
   "metadata": {},
   "outputs": [
    {
     "name": "stdout",
     "output_type": "stream",
     "text": [
      "C:\n",
      "in\the downward spiral\n"
     ]
    }
   ],
   "source": [
    "print(\"C:\\nin\\the downward spiral\")"
   ]
  },
  {
   "cell_type": "code",
   "execution_count": 6,
   "id": "1c28cd40",
   "metadata": {},
   "outputs": [
    {
     "name": "stdout",
     "output_type": "stream",
     "text": [
      "/ \\ // \\\\ /// \\\\\\\n"
     ]
    }
   ],
   "source": [
    "print(\"/ \\\\ // \\\\\\\\ /// \\\\\\\\\\\\\")"
   ]
  },
  {
   "cell_type": "code",
   "execution_count": 7,
   "id": "43e57b30",
   "metadata": {},
   "outputs": [
    {
     "name": "stdout",
     "output_type": "stream",
     "text": [
      "This quote is from\n",
      "Irish poet Oscar Wilde:\n",
      "Music makes one feel so romantic\n",
      "- at least it always gets on one's nerves –\n",
      "which is the same thing nowadays.\n"
     ]
    }
   ],
   "source": [
    "print(\"This quote is from\")\n",
    "print(\"Irish poet Oscar Wilde:\")\n",
    "print(\"Music makes one feel so romantic\")\n",
    "print(\"- at least it always gets on one's nerves –\")\n",
    "print(\"which is the same thing nowadays.\")"
   ]
  },
  {
   "cell_type": "code",
   "execution_count": 8,
   "id": "e6270e98",
   "metadata": {},
   "outputs": [
    {
     "name": "stdout",
     "output_type": "stream",
     "text": [
      "A \"quoted\" String is\n",
      "'much' better if you learn\n",
      "the rules of \"escape sequences.\"\n",
      "Also, \"\" represents an empty String.\n",
      " Don't forget: use \\\" instead of \" !\n",
      "'' is not the same as \"\"\n"
     ]
    }
   ],
   "source": [
    "print(\"A \\\"quoted\\\" String is\")\n",
    "print(\"'much' better if you learn\")\n",
    "print(\"the rules of \\\"escape sequences.\\\"\")\n",
    "print(\"Also, \\\"\\\" represents an empty String.\")\n",
    "print(\" Don't forget: use \\\\\\\" instead of \\\" !\")\n",
    "print(\"'' is not the same as \\\"\\\"\")"
   ]
  },
  {
   "cell_type": "code",
   "execution_count": 9,
   "id": "69e68127",
   "metadata": {},
   "outputs": [
    {
     "data": {
      "text/plain": [
       "1.8"
      ]
     },
     "execution_count": 9,
     "metadata": {},
     "output_type": "execute_result"
    }
   ],
   "source": [
    "9 / 5"
   ]
  },
  {
   "cell_type": "code",
   "execution_count": 10,
   "id": "6693f49c",
   "metadata": {},
   "outputs": [
    {
     "data": {
      "text/plain": [
       "15"
      ]
     },
     "execution_count": 10,
     "metadata": {},
     "output_type": "execute_result"
    }
   ],
   "source": [
    "695 % 20"
   ]
  },
  {
   "cell_type": "code",
   "execution_count": 11,
   "id": "f0ea0b84",
   "metadata": {},
   "outputs": [
    {
     "data": {
      "text/plain": [
       "37"
      ]
     },
     "execution_count": 11,
     "metadata": {},
     "output_type": "execute_result"
    }
   ],
   "source": [
    "7 + 6 * 5"
   ]
  },
  {
   "cell_type": "code",
   "execution_count": 12,
   "id": "2beeeb25",
   "metadata": {},
   "outputs": [
    {
     "data": {
      "text/plain": [
       "47"
      ]
     },
     "execution_count": 12,
     "metadata": {},
     "output_type": "execute_result"
    }
   ],
   "source": [
    "7 * 6 + 5"
   ]
  },
  {
   "cell_type": "code",
   "execution_count": 13,
   "id": "a697ac4f",
   "metadata": {},
   "outputs": [
    {
     "data": {
      "text/plain": [
       "9.6"
      ]
     },
     "execution_count": 13,
     "metadata": {},
     "output_type": "execute_result"
    }
   ],
   "source": [
    "248 % 100 / 5"
   ]
  },
  {
   "cell_type": "code",
   "execution_count": 14,
   "id": "db4d5fe3",
   "metadata": {},
   "outputs": [
    {
     "data": {
      "text/plain": [
       "15.75"
      ]
     },
     "execution_count": 14,
     "metadata": {},
     "output_type": "execute_result"
    }
   ],
   "source": [
    "6 * 3 - 9 / 4"
   ]
  },
  {
   "cell_type": "code",
   "execution_count": 15,
   "id": "13289bad",
   "metadata": {},
   "outputs": [
    {
     "data": {
      "text/plain": [
       "-8"
      ]
     },
     "execution_count": 15,
     "metadata": {},
     "output_type": "execute_result"
    }
   ],
   "source": [
    "(5 - 7) * 4"
   ]
  },
  {
   "cell_type": "code",
   "execution_count": 16,
   "id": "ea9a3525",
   "metadata": {},
   "outputs": [
    {
     "data": {
      "text/plain": [
       "9"
      ]
     },
     "execution_count": 16,
     "metadata": {},
     "output_type": "execute_result"
    }
   ],
   "source": [
    "6 + (18 % (17 - 12))"
   ]
  }
 ],
 "metadata": {
  "kernelspec": {
   "display_name": "Python 3 (ipykernel)",
   "language": "python",
   "name": "python3"
  },
  "language_info": {
   "codemirror_mode": {
    "name": "ipython",
    "version": 3
   },
   "file_extension": ".py",
   "mimetype": "text/x-python",
   "name": "python",
   "nbconvert_exporter": "python",
   "pygments_lexer": "ipython3",
   "version": "3.11.3"
  }
 },
 "nbformat": 4,
 "nbformat_minor": 5
}
